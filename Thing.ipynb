{
 "cells": [
  {
   "cell_type": "code",
   "execution_count": 6,
   "id": "92173eea-0686-4c7e-8399-4e75c29b5f90",
   "metadata": {},
   "outputs": [],
   "source": [
    "from redis_state import RedisState\n",
    "import requests\n",
    "\n",
    "state = RedisState()\n",
    "\n",
    "# Get the first 10 pokemons from the pokeapi and load them into state\n",
    "def load_pokemons():\n",
    "    for i in range(1, 11):\n",
    "        pokemon = requests.get(f'https://pokeapi.co/api/v2/pokemon/{i}').json()\n",
    "        state[pokemon['name']] = pokemon\n",
    "load_pokemons()"
   ]
  },
  {
   "cell_type": "code",
   "execution_count": 7,
   "id": "0d61bbf1-deb5-450f-9a95-91e6a602aa38",
   "metadata": {},
   "outputs": [],
   "source": [
    "state['sus'] = {}"
   ]
  },
  {
   "cell_type": "code",
   "execution_count": null,
   "id": "fee533f5-de77-4fb2-99a0-b6ffde8423bd",
   "metadata": {},
   "outputs": [],
   "source": []
  }
 ],
 "metadata": {
  "kernelspec": {
   "display_name": "Python 3 (ipykernel)",
   "language": "python",
   "name": "python3"
  },
  "language_info": {
   "codemirror_mode": {
    "name": "ipython",
    "version": 3
   },
   "file_extension": ".py",
   "mimetype": "text/x-python",
   "name": "python",
   "nbconvert_exporter": "python",
   "pygments_lexer": "ipython3",
   "version": "3.12.7"
  }
 },
 "nbformat": 4,
 "nbformat_minor": 5
}
