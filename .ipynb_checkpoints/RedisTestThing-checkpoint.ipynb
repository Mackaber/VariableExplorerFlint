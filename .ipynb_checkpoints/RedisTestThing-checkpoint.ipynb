{
 "cells": [
  {
   "cell_type": "code",
   "execution_count": 1,
   "id": "c3571e53-b9cf-4267-aa73-d3c00909f9f3",
   "metadata": {},
   "outputs": [
    {
     "name": "stdout",
     "output_type": "stream",
     "text": [
      "bar\n"
     ]
    }
   ],
   "source": [
    "# Assuming you are at the root where Untitled.ipynb is\n",
    "\n",
    "from redis_state.state import RedisState\n",
    "\n",
    "state = RedisState()\n",
    "\n",
    "# now you can do:\n",
    "state[\"foo\"] = \"bar\"\n",
    "print(state[\"foo\"])\n"
   ]
  },
  {
   "cell_type": "code",
   "execution_count": 6,
   "id": "79152166-dbda-4495-9800-ffb8db43255e",
   "metadata": {},
   "outputs": [],
   "source": [
    "state[\"foo\"] = \"Not barris:(\""
   ]
  },
  {
   "cell_type": "code",
   "execution_count": null,
   "id": "1221bba8-cf38-4faa-bff9-45c6706f3aff",
   "metadata": {},
   "outputs": [],
   "source": []
  }
 ],
 "metadata": {
  "kernelspec": {
   "display_name": "Python 3 (ipykernel)",
   "language": "python",
   "name": "python3"
  },
  "language_info": {
   "codemirror_mode": {
    "name": "ipython",
    "version": 3
   },
   "file_extension": ".py",
   "mimetype": "text/x-python",
   "name": "python",
   "nbconvert_exporter": "python",
   "pygments_lexer": "ipython3",
   "version": "3.12.7"
  }
 },
 "nbformat": 4,
 "nbformat_minor": 5
}
