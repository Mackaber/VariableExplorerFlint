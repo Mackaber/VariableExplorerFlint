{
 "cells": [
  {
   "cell_type": "code",
   "execution_count": 2,
   "id": "c3571e53-b9cf-4267-aa73-d3c00909f9f3",
   "metadata": {},
   "outputs": [
    {
     "name": "stdout",
     "output_type": "stream",
     "text": [
      "bar\n"
     ]
    }
   ],
   "source": [
    "# Assuming you are at the root where Untitled.ipynb is\n",
    "\n",
    "from redis_state import RedisState\n",
    "\n",
    "state = RedisState()\n",
    "\n",
    "# now you can do:\n",
    "state[\"foo\"] = \"bar\"\n",
    "print(state[\"foo\"])\n"
   ]
  },
  {
   "cell_type": "code",
   "execution_count": 3,
   "id": "79152166-dbda-4495-9800-ffb8db43255e",
   "metadata": {},
   "outputs": [],
   "source": [
    "state[\"foo\"] = \"bar\""
   ]
  },
  {
   "cell_type": "code",
   "execution_count": 4,
   "id": "9c063e76-a98d-4fc5-993b-20c14b0c0728",
   "metadata": {},
   "outputs": [],
   "source": [
    "state[\"death\"] = \"Tu mama!\""
   ]
  },
  {
   "cell_type": "code",
   "execution_count": 5,
   "id": "5fd66c14-3773-440c-83b9-f2967be828ca",
   "metadata": {},
   "outputs": [],
   "source": [
    "state['dios'] = {\n",
    "    \"soy\": \"el\",\n",
    "    \"objeto\": False\n",
    "}"
   ]
  },
  {
   "cell_type": "code",
   "execution_count": 13,
   "id": "f0220567-a40e-421b-bd5d-65eda25837a6",
   "metadata": {},
   "outputs": [],
   "source": [
    "state['dios'] = [\n",
    "{\n",
    "    \"soy\": \"la\",\n",
    "    \"objeto\": False\n",
    "},\n",
    "{\n",
    "    \"soy\": \"el\",\n",
    "    \"objeto\": False\n",
    "}\n",
    "    \n",
    "]"
   ]
  },
  {
   "cell_type": "code",
   "execution_count": null,
   "id": "17d8ecd5-f7c0-4496-8070-2cfccc6c18ea",
   "metadata": {},
   "outputs": [],
   "source": [
    "stat"
   ]
  }
 ],
 "metadata": {
  "kernelspec": {
   "display_name": "Python 3 (ipykernel)",
   "language": "python",
   "name": "python3"
  },
  "language_info": {
   "codemirror_mode": {
    "name": "ipython",
    "version": 3
   },
   "file_extension": ".py",
   "mimetype": "text/x-python",
   "name": "python",
   "nbconvert_exporter": "python",
   "pygments_lexer": "ipython3",
   "version": "3.12.7"
  }
 },
 "nbformat": 4,
 "nbformat_minor": 5
}
