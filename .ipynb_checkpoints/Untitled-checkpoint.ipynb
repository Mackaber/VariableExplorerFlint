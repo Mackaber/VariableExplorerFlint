{
 "cells": [
  {
   "cell_type": "code",
   "execution_count": 2,
   "id": "a88a4d8b-de77-4f31-9dfd-3f24da367771",
   "metadata": {
    "editable": true,
    "slideshow": {
     "slide_type": ""
    },
    "tags": []
   },
   "outputs": [
    {
     "name": "stdout",
     "output_type": "stream",
     "text": [
      "No longer hello!\n"
     ]
    }
   ],
   "source": [
    "import redis\n",
    "\n",
    "# Connect to your local Redis server\n",
    "r = redis.Redis(host='localhost', port=6379, db=0)\n",
    "\n",
    "# Set a key-value pair\n",
    "r.set('mykey', 'No longer hello!')\n",
    "\n",
    "# Optionally verify\n",
    "value = r.get('mykey')\n",
    "print(value.decode())\n"
   ]
  },
  {
   "cell_type": "code",
   "execution_count": 3,
   "id": "d6f9683d-9427-4353-aecf-8fcf56c5550a",
   "metadata": {},
   "outputs": [
    {
     "name": "stdout",
     "output_type": "stream",
     "text": [
      "{'id': 1, 'name': 'Alice', 'email': 'alice@example.com', 'active': True, 'profile': {'age': 30, 'city': 'New York', 'interests': ['music', 'art', 'travel']}}\n"
     ]
    }
   ],
   "source": [
    "import json\n",
    "\n",
    "users = [\n",
    "    {\n",
    "        \"id\": 1,\n",
    "        \"name\": \"Alice\",\n",
    "        \"email\": \"alice@example.com\",\n",
    "        \"active\": True,\n",
    "        \"profile\": {\n",
    "            \"age\": 30,\n",
    "            \"city\": \"New York\",\n",
    "            \"interests\": [\"music\", \"art\", \"travel\"]\n",
    "        }\n",
    "    },\n",
    "    {\n",
    "        \"id\": 2,\n",
    "        \"name\": \"Bob\",\n",
    "        \"email\": \"bob@example.com\",\n",
    "        \"active\": False,\n",
    "        \"profile\": {\n",
    "            \"age\": 25,\n",
    "            \"city\": \"San Francisco\",\n",
    "            \"interests\": [\"tech\", \"gaming\"]\n",
    "        }\n",
    "    }\n",
    "]\n",
    "\n",
    "# Save each user into Redis\n",
    "for user in users:\n",
    "    key = f\"user:{user['id']}\"\n",
    "    # Redis hashes can't directly store nested objects, so we flatten or serialize\n",
    "    flat_user = {\n",
    "        \"name\": user[\"name\"],\n",
    "        \"email\": user[\"email\"],\n",
    "        \"active\": json.dumps(user[\"active\"]),  # store boolean as JSON string \"true\"/\"false\"\n",
    "        \"profile\": json.dumps(user[\"profile\"])  # store the nested profile as JSON string\n",
    "    }\n",
    "    r.hset(key, mapping=flat_user)\n",
    "\n",
    "# Retrieve and decode a user from Redis\n",
    "user_id = 1\n",
    "key = f\"user:{user_id}\"\n",
    "user_data = r.hgetall(key)\n",
    "\n",
    "# Decode and rebuild the Python object\n",
    "user_object = {\n",
    "    \"id\": user_id,\n",
    "    \"name\": user_data[b'name'].decode(),\n",
    "    \"email\": user_data[b'email'].decode(),\n",
    "    \"active\": json.loads(user_data[b'active'].decode()),  # back to boolean\n",
    "    \"profile\": json.loads(user_data[b'profile'].decode())  # back to dict\n",
    "}\n",
    "\n",
    "print(user_object)"
   ]
  },
  {
   "cell_type": "code",
   "execution_count": 5,
   "id": "d10047aa-8fa1-4104-9992-18ca758497aa",
   "metadata": {},
   "outputs": [
    {
     "ename": "AttributeError",
     "evalue": "'dict' object has no attribute 'name'",
     "output_type": "error",
     "traceback": [
      "\u001b[31m---------------------------------------------------------------------------\u001b[39m",
      "\u001b[31mAttributeError\u001b[39m                            Traceback (most recent call last)",
      "\u001b[36mCell\u001b[39m\u001b[36m \u001b[39m\u001b[32mIn[5]\u001b[39m\u001b[32m, line 1\u001b[39m\n\u001b[32m----> \u001b[39m\u001b[32m1\u001b[39m \u001b[43muser_object\u001b[49m\u001b[43m.\u001b[49m\u001b[43mname\u001b[49m\n",
      "\u001b[31mAttributeError\u001b[39m: 'dict' object has no attribute 'name'"
     ]
    }
   ],
   "source": [
    "user_object.name"
   ]
  },
  {
   "cell_type": "code",
   "execution_count": null,
   "id": "93f79582-2a21-4d90-9ce7-705938653392",
   "metadata": {},
   "outputs": [],
   "source": []
  }
 ],
 "metadata": {
  "kernelspec": {
   "display_name": "Python 3 (ipykernel)",
   "language": "python",
   "name": "python3"
  },
  "language_info": {
   "codemirror_mode": {
    "name": "ipython",
    "version": 3
   },
   "file_extension": ".py",
   "mimetype": "text/x-python",
   "name": "python",
   "nbconvert_exporter": "python",
   "pygments_lexer": "ipython3",
   "version": "3.12.7"
  }
 },
 "nbformat": 4,
 "nbformat_minor": 5
}
