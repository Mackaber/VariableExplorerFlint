{
 "cells": [
  {
   "cell_type": "code",
   "execution_count": 1,
   "id": "c3571e53-b9cf-4267-aa73-d3c00909f9f3",
   "metadata": {},
   "outputs": [
    {
     "name": "stdout",
     "output_type": "stream",
     "text": [
      "bar\n"
     ]
    }
   ],
   "source": [
    "# Assuming you are at the root where Untitled.ipynb is\n",
    "\n",
    "from redis_state import RedisState\n",
    "\n",
    "state = RedisState()\n",
    "\n",
    "# now you can do:\n",
    "state[\"foo\"] = \"bar\"\n",
    "print(state[\"foo\"])\n",
    "\n",
    "\n"
   ]
  },
  {
   "cell_type": "code",
   "execution_count": 2,
   "id": "79152166-dbda-4495-9800-ffb8db43255e",
   "metadata": {},
   "outputs": [],
   "source": [
    "state[\"foo\"] = \"bar\""
   ]
  },
  {
   "cell_type": "code",
   "execution_count": 3,
   "id": "9c063e76-a98d-4fc5-993b-20c14b0c0728",
   "metadata": {},
   "outputs": [],
   "source": [
    "state[\"death\"] = \"Tu mama!\""
   ]
  },
  {
   "cell_type": "code",
   "execution_count": 4,
   "id": "5fd66c14-3773-440c-83b9-f2967be828ca",
   "metadata": {},
   "outputs": [],
   "source": [
    "state['dios'] = {\n",
    "    \"soy\": \"el\",\n",
    "    \"objeto\": False\n",
    "}"
   ]
  },
  {
   "cell_type": "code",
   "execution_count": 5,
   "id": "f0220567-a40e-421b-bd5d-65eda25837a6",
   "metadata": {},
   "outputs": [],
   "source": [
    "state['dios'] = [\n",
    "{\n",
    "    \"soy\": \"la\",\n",
    "    \"objeto\": False\n",
    "},\n",
    "{\n",
    "    \"soy\": \"el\",\n",
    "    \"objeto\": False\n",
    "}\n",
    "    \n",
    "]"
   ]
  },
  {
   "cell_type": "code",
   "execution_count": 7,
   "id": "ab138a92-dec9-4130-80cd-24612f06da8c",
   "metadata": {},
   "outputs": [
    {
     "data": {
      "text/plain": [
       "'la'"
      ]
     },
     "execution_count": 7,
     "metadata": {},
     "output_type": "execute_result"
    }
   ],
   "source": [
    "state['dios'][0]['soy']"
   ]
  },
  {
   "cell_type": "code",
   "execution_count": 9,
   "id": "ac14bf44-15c4-4ed7-9589-a80ab2d8195f",
   "metadata": {},
   "outputs": [
    {
     "data": {
      "text/plain": [
       "[{'soy': 'la', 'objeto': False}, {'soy': 'el', 'objeto': False}]"
      ]
     },
     "execution_count": 9,
     "metadata": {},
     "output_type": "execute_result"
    }
   ],
   "source": [
    "state['dios']"
   ]
  },
  {
   "cell_type": "code",
   "execution_count": 10,
   "id": "20bd9e35-2ae7-489b-b052-c66b59f354f5",
   "metadata": {},
   "outputs": [],
   "source": [
    "state['thing'] = [\n",
    "    { 'object1' : [1,2,3,4] },\n",
    "    { 'object2' : [1,2,3,4] }\n",
    "]"
   ]
  },
  {
   "cell_type": "code",
   "execution_count": 11,
   "id": "bce210f5-91c2-493a-b046-44ab4a7e88db",
   "metadata": {},
   "outputs": [
    {
     "data": {
      "text/plain": [
       "[{'object1': [1, 2, 3, 4]}, {'object2': [1, 2, 3, 4]}]"
      ]
     },
     "execution_count": 11,
     "metadata": {},
     "output_type": "execute_result"
    }
   ],
   "source": [
    "state['thing']"
   ]
  },
  {
   "cell_type": "code",
   "execution_count": 12,
   "id": "427f9e96-7e7f-4d12-867c-19f76d468d43",
   "metadata": {},
   "outputs": [
    {
     "data": {
      "text/plain": [
       "1"
      ]
     },
     "execution_count": 12,
     "metadata": {},
     "output_type": "execute_result"
    }
   ],
   "source": [
    "state['thing'][0]['object1'][0]"
   ]
  },
  {
   "cell_type": "code",
   "execution_count": 13,
   "id": "6b1e52c9-94ea-41d8-a969-59e36b1eede6",
   "metadata": {},
   "outputs": [],
   "source": [
    "state['thing'][0]['object1'][0] = { 'another': 'thing'}"
   ]
  },
  {
   "cell_type": "code",
   "execution_count": 15,
   "id": "556c6e10-140b-4758-b3f5-13570580687a",
   "metadata": {},
   "outputs": [],
   "source": [
    "state['thing'] = \"NOT\""
   ]
  },
  {
   "cell_type": "code",
   "execution_count": null,
   "id": "0b6d90ed-4929-4122-926e-6a4d3aac5179",
   "metadata": {},
   "outputs": [],
   "source": []
  }
 ],
 "metadata": {
  "kernelspec": {
   "display_name": "Python 3 (ipykernel)",
   "language": "python",
   "name": "python3"
  },
  "language_info": {
   "codemirror_mode": {
    "name": "ipython",
    "version": 3
   },
   "file_extension": ".py",
   "mimetype": "text/x-python",
   "name": "python",
   "nbconvert_exporter": "python",
   "pygments_lexer": "ipython3",
   "version": "3.12.7"
  }
 },
 "nbformat": 4,
 "nbformat_minor": 5
}
